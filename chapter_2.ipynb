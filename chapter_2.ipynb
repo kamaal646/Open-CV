{
 "cells": [
  {
   "cell_type": "markdown",
   "id": "9f4a6282",
   "metadata": {},
   "source": [
    "# converting image into black and white imaeg"
   ]
  },
  {
   "cell_type": "code",
   "execution_count": 1,
   "id": "51dbdc05",
   "metadata": {},
   "outputs": [],
   "source": [
    "import cv2 as cv"
   ]
  },
  {
   "cell_type": "code",
   "execution_count": 2,
   "id": "55a486da",
   "metadata": {},
   "outputs": [],
   "source": [
    "img = cv.imread('resources/python.png')"
   ]
  },
  {
   "cell_type": "code",
   "execution_count": 3,
   "id": "e8bca7a9",
   "metadata": {},
   "outputs": [],
   "source": [
    "gray = cv.cvtColor(img, cv.COLOR_BGR2GRAY)\n",
    "(thresh, binary) = cv.threshold(gray, 127, 255, cv.THRESH_BINARY)"
   ]
  },
  {
   "cell_type": "code",
   "execution_count": 4,
   "id": "637f1186",
   "metadata": {},
   "outputs": [],
   "source": [
    "cv.imshow('original', img)\n",
    "cv.imshow('gray', gray)\n",
    "cv.imshow('Black and White', binary)\n",
    "cv.waitKey(0)\n",
    "cv.destroyAllWindows()"
   ]
  },
  {
   "cell_type": "code",
   "execution_count": null,
   "id": "0ac84520",
   "metadata": {},
   "outputs": [],
   "source": []
  }
 ],
 "metadata": {
  "kernelspec": {
   "display_name": "Python 3 (ipykernel)",
   "language": "python",
   "name": "python3"
  },
  "language_info": {
   "codemirror_mode": {
    "name": "ipython",
    "version": 3
   },
   "file_extension": ".py",
   "mimetype": "text/x-python",
   "name": "python",
   "nbconvert_exporter": "python",
   "pygments_lexer": "ipython3",
   "version": "3.9.7"
  }
 },
 "nbformat": 4,
 "nbformat_minor": 5
}
