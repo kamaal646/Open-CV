{
 "cells": [
  {
   "cell_type": "code",
   "execution_count": 1,
   "id": "780a5713",
   "metadata": {},
   "outputs": [],
   "source": [
    "import cv2 as cv\n",
    "import sys"
   ]
  },
  {
   "cell_type": "code",
   "execution_count": 2,
   "id": "2f34b46d",
   "metadata": {},
   "outputs": [],
   "source": [
    "img = cv.imread('resources2/PythonPracticeExercisesQuestionsandSolutionsmin.png')"
   ]
  },
  {
   "cell_type": "code",
   "execution_count": 3,
   "id": "e06a6c88",
   "metadata": {},
   "outputs": [],
   "source": [
    "# cv.imshow(\"Image Window\", img)\n",
    "# cv.waitKey(50)"
   ]
  },
  {
   "cell_type": "code",
   "execution_count": 4,
   "id": "e7b18b31",
   "metadata": {},
   "outputs": [],
   "source": [
    "import cv2\n",
    "import cvzone\n",
    "from cvzone.FaceMeshModule import FaceMeshDetector"
   ]
  },
  {
   "cell_type": "code",
   "execution_count": 5,
   "id": "bf0190ba",
   "metadata": {},
   "outputs": [],
   "source": [
    "cap = cv2.VideoCapture(0)"
   ]
  },
  {
   "cell_type": "code",
   "execution_count": null,
   "id": "a2a2bfe8",
   "metadata": {},
   "outputs": [],
   "source": [
    "while True:\n",
    "    success, img = cap.read()\n",
    "    cv2.imshow(\"Image\", img)\n",
    "    cv2.waitKey(1)"
   ]
  },
  {
   "cell_type": "code",
   "execution_count": null,
   "id": "29e655e5",
   "metadata": {},
   "outputs": [],
   "source": [
    "detector = FaceMeshDetector(maxfaces=1)"
   ]
  },
  {
   "cell_type": "code",
   "execution_count": null,
   "id": "356f6eac",
   "metadata": {},
   "outputs": [],
   "source": [
    "while True:\n",
    "    success, img = cap.read()\n",
    "    img, faces = detector.findFaceMesh(img, draw=True) \n",
    "    cv2.imshow(\"Image\", img)\n",
    "    cv2.waitKey(1)"
   ]
  },
  {
   "cell_type": "code",
   "execution_count": null,
   "id": "d523fd0b",
   "metadata": {},
   "outputs": [],
   "source": []
  }
 ],
 "metadata": {
  "kernelspec": {
   "display_name": "Python 3 (ipykernel)",
   "language": "python",
   "name": "python3"
  },
  "language_info": {
   "codemirror_mode": {
    "name": "ipython",
    "version": 3
   },
   "file_extension": ".py",
   "mimetype": "text/x-python",
   "name": "python",
   "nbconvert_exporter": "python",
   "pygments_lexer": "ipython3",
   "version": "3.9.7"
  }
 },
 "nbformat": 4,
 "nbformat_minor": 5
}
