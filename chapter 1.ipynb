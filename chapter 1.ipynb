{
 "cells": [
  {
   "cell_type": "code",
   "execution_count": 1,
   "id": "40bb5bdf",
   "metadata": {},
   "outputs": [],
   "source": [
    "import cv2 as cv\n",
    "from cv2 import cvtColor"
   ]
  },
  {
   "cell_type": "code",
   "execution_count": 2,
   "id": "a2f82d1d",
   "metadata": {},
   "outputs": [],
   "source": [
    "img = cv.imread('resources/python.png')\n",
    "img = cv.resize(img, (600,400))"
   ]
  },
  {
   "cell_type": "code",
   "execution_count": 3,
   "id": "73ef66ee",
   "metadata": {},
   "outputs": [],
   "source": [
    "gray_img = cvtColor(img, cv.COLOR_BGR2GRAY)\n",
    "cv.imshow(\"window image\", img)\n",
    "cv.imshow(\"gray image\", gray_img)"
   ]
  },
  {
   "cell_type": "code",
   "execution_count": 4,
   "id": "3ad1fde7",
   "metadata": {},
   "outputs": [],
   "source": [
    "cv.waitKey(20000)\n",
    "cv.destroyAllWindows()"
   ]
  },
  {
   "cell_type": "code",
   "execution_count": null,
   "id": "75ae5d99",
   "metadata": {},
   "outputs": [],
   "source": []
  }
 ],
 "metadata": {
  "kernelspec": {
   "display_name": "Python 3 (ipykernel)",
   "language": "python",
   "name": "python3"
  },
  "language_info": {
   "codemirror_mode": {
    "name": "ipython",
    "version": 3
   },
   "file_extension": ".py",
   "mimetype": "text/x-python",
   "name": "python",
   "nbconvert_exporter": "python",
   "pygments_lexer": "ipython3",
   "version": "3.9.7"
  }
 },
 "nbformat": 4,
 "nbformat_minor": 5
}
